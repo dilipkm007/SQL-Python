{
 "cells": [
  {
   "cell_type": "markdown",
   "id": "011cc5cd-f1a2-4a84-bb2e-a54db3d4ef07",
   "metadata": {},
   "source": [
    "## using mysql connector"
   ]
  },
  {
   "cell_type": "code",
   "execution_count": 17,
   "id": "49c92d50-bc78-4488-93fd-0e1d913254d1",
   "metadata": {},
   "outputs": [
    {
     "name": "stdout",
     "output_type": "stream",
     "text": [
      "Requirement already satisfied: mysql-connector-python in ./anaconda3/lib/python3.11/site-packages (8.4.0)\n"
     ]
    }
   ],
   "source": [
    "!pip3 install mysql-connector-python"
   ]
  },
  {
   "cell_type": "code",
   "execution_count": 18,
   "id": "87f6933e-537f-4236-b33b-566d9893109b",
   "metadata": {},
   "outputs": [],
   "source": [
    "import mysql.connector"
   ]
  },
  {
   "cell_type": "code",
   "execution_count": 25,
   "id": "5f4d92e1-aaf4-4085-9012-869144e5c16d",
   "metadata": {},
   "outputs": [
    {
     "name": "stdout",
     "output_type": "stream",
     "text": [
      "<mysql.connector.connection_cext.CMySQLConnection object at 0x31302b610>\n"
     ]
    }
   ],
   "source": [
    "db = mysql.connector.connect (\n",
    "    host=\"localhost\",\n",
    "    user=\"user\",\n",
    "    password=\"password\"\n",
    ")\n",
    "print(mydb)"
   ]
  },
  {
   "cell_type": "code",
   "execution_count": 27,
   "id": "b5ed29dc-a5cf-493f-97f8-97a22bc0b046",
   "metadata": {},
   "outputs": [],
   "source": [
    "cursor = db.cursor()"
   ]
  },
  {
   "cell_type": "code",
   "execution_count": 31,
   "id": "0cb6e07a-7b25-47f3-ae89-a5649206c6e9",
   "metadata": {},
   "outputs": [],
   "source": [
    "cursor.execute(\"CREATE DATABASE example;\")"
   ]
  },
  {
   "cell_type": "code",
   "execution_count": 37,
   "id": "3704b3ef-4a0b-4121-ac0d-5301c6aca2a1",
   "metadata": {},
   "outputs": [
    {
     "name": "stdout",
     "output_type": "stream",
     "text": [
      "('example',)\n",
      "('information_schema',)\n",
      "('mysql',)\n",
      "('new_schema',)\n",
      "('performance_schema',)\n",
      "('sys',)\n"
     ]
    }
   ],
   "source": [
    "cursor.execute(\"SHOW DATABASES;\")\n",
    "for x in cursor:\n",
    "    print(x)"
   ]
  },
  {
   "cell_type": "code",
   "execution_count": 43,
   "id": "7303f16c-4e73-4197-bf74-b9038e4b2872",
   "metadata": {},
   "outputs": [],
   "source": [
    "cursor.execute(\"USE example;\")"
   ]
  },
  {
   "cell_type": "code",
   "execution_count": 45,
   "id": "a606ec70-ae81-4ab6-8b58-37facc7672b8",
   "metadata": {},
   "outputs": [],
   "source": [
    "cursor.execute(\"CREATE TABLE customers (id INT NOT NULL PRIMARY KEY, name varchar(255), address varchar(255));\")"
   ]
  },
  {
   "cell_type": "code",
   "execution_count": 47,
   "id": "a2dd69fe-b70a-4417-aa0f-50b6f6aa248d",
   "metadata": {},
   "outputs": [
    {
     "name": "stdout",
     "output_type": "stream",
     "text": [
      "('customers',)\n"
     ]
    }
   ],
   "source": [
    "cursor.execute(\"SHOW TABLES;\")\n",
    "for t in cursor:\n",
    "    print(t)"
   ]
  },
  {
   "cell_type": "code",
   "execution_count": 49,
   "id": "3386837c-45e0-4715-896b-39912c9a00b3",
   "metadata": {},
   "outputs": [
    {
     "data": {
      "text/plain": [
       "True"
      ]
     },
     "execution_count": 49,
     "metadata": {},
     "output_type": "execute_result"
    }
   ],
   "source": [
    "cursor.close()"
   ]
  },
  {
   "cell_type": "code",
   "execution_count": 55,
   "id": "d84e2c51-7d7f-4a3a-be65-001b81ede27c",
   "metadata": {},
   "outputs": [],
   "source": [
    "cursor = db.cursor()"
   ]
  },
  {
   "cell_type": "code",
   "execution_count": 57,
   "id": "383fb356-eed2-4d38-b2ab-1eca971b9119",
   "metadata": {},
   "outputs": [],
   "source": [
    "cursor.execute(\"USE example;\")"
   ]
  },
  {
   "cell_type": "code",
   "execution_count": 59,
   "id": "0f891b0c-c00a-4da0-81cb-582e648ec185",
   "metadata": {},
   "outputs": [],
   "source": [
    "cursor.execute(\"DROP TABLE IF EXISTS INSTRUCTOR;\")"
   ]
  },
  {
   "cell_type": "code",
   "execution_count": 61,
   "id": "2cea5a94-9d56-4936-809f-3a347a0c9055",
   "metadata": {},
   "outputs": [
    {
     "name": "stdout",
     "output_type": "stream",
     "text": [
      "table created\n"
     ]
    }
   ],
   "source": [
    "table = \"\"\"CREATE TABLE IF NOT EXISTS INSTRUCTOR(ID INT NOT NULL PRIMARY KEY, FNAME VARCHAR(255), LNAME VARCHAR(255), CITY VARCHAR(255), CCODE CHAR(3));\"\"\"\n",
    "cursor.execute(table)\n",
    "print(\"table created\")"
   ]
  },
  {
   "cell_type": "code",
   "execution_count": 65,
   "id": "d9c53950-cacd-499a-a6a6-2612cc9a970a",
   "metadata": {},
   "outputs": [],
   "source": [
    "insert_into = \"INSERT INTO INSTRUCTOR(ID, FNAME, LNAME, CITY, CCODE) VALUES(2, 'Dilip', 'Kumar', 'Jaipur', 'DK'), (3, 'Raju', 'Maheshwari', 'Jodhpur', 'RM'), (4, 'Mahesh', 'Maheshwari', 'Kota', 'MM');\"\n",
    "cursor.execute(insert_into)"
   ]
  },
  {
   "cell_type": "code",
   "execution_count": 67,
   "id": "be90234c-fcd4-419b-a9a6-ebce1c111f41",
   "metadata": {},
   "outputs": [
    {
     "name": "stdout",
     "output_type": "stream",
     "text": [
      "(2, 'Dilip', 'Kumar', 'Jaipur', 'DK')\n",
      "(3, 'Raju', 'Maheshwari', 'Jodhpur', 'RM')\n",
      "(4, 'Mahesh', 'Maheshwari', 'Kota', 'MM')\n"
     ]
    }
   ],
   "source": [
    "select = \"\"\"SELECT * FROM INSTRUCTOR;\"\"\"\n",
    "cursor.execute(select)\n",
    "\n",
    "for i in cursor:\n",
    "    print(i)"
   ]
  },
  {
   "cell_type": "code",
   "execution_count": 69,
   "id": "be550229-f1d8-40cb-aa5b-0f0b379b94ed",
   "metadata": {},
   "outputs": [
    {
     "name": "stdout",
     "output_type": "stream",
     "text": [
      "('Dilip',)\n",
      "('Raju',)\n",
      "('Mahesh',)\n"
     ]
    }
   ],
   "source": [
    "select1 = \"\"\"SELECT FNAME FROM INSTRUCTOR;\"\"\"\n",
    "cursor.execute(select1)\n",
    "for f in cursor:\n",
    "    print(f)"
   ]
  },
  {
   "cell_type": "code",
   "execution_count": 71,
   "id": "62497af0-eca3-4318-9ad7-1c03667524cb",
   "metadata": {},
   "outputs": [],
   "source": [
    "where = \"\"\"UPDATE INSTRUCTOR SET CITY = 'AHMEDABAD' WHERE FNAME= 'RAJU';\"\"\"\n",
    "cursor.execute(where)"
   ]
  },
  {
   "cell_type": "code",
   "execution_count": 73,
   "id": "c50d6b5b-ed66-454a-90ff-5c1b826b460d",
   "metadata": {},
   "outputs": [
    {
     "name": "stdout",
     "output_type": "stream",
     "text": [
      "(2, 'Dilip', 'Kumar', 'Jaipur', 'DK')\n",
      "(3, 'Raju', 'Maheshwari', 'AHMEDABAD', 'RM')\n",
      "(4, 'Mahesh', 'Maheshwari', 'Kota', 'MM')\n"
     ]
    }
   ],
   "source": [
    "select = \"\"\"SELECT * FROM INSTRUCTOR;\"\"\"\n",
    "cursor.execute(select)\n",
    "\n",
    "for i in cursor:\n",
    "    print(i)"
   ]
  },
  {
   "cell_type": "markdown",
   "id": "224c930b-4419-4332-9e37-0ccca882c928",
   "metadata": {},
   "source": [
    "## using pandas"
   ]
  },
  {
   "cell_type": "code",
   "execution_count": 82,
   "id": "d9c3c2bf-0e0c-489a-b711-6f93d550d53e",
   "metadata": {},
   "outputs": [],
   "source": [
    "import pandas as pd"
   ]
  },
  {
   "cell_type": "code",
   "execution_count": 84,
   "id": "ffc73edb-a5a1-44fc-b591-98bf3fdb5b03",
   "metadata": {},
   "outputs": [
    {
     "name": "stderr",
     "output_type": "stream",
     "text": [
      "/var/folders/yx/clxpf83j5s5ggm6y06shpr2nvnkgps/T/ipykernel_39822/2997862019.py:1: UserWarning: pandas only supports SQLAlchemy connectable (engine/connection) or database string URI or sqlite3 DBAPI2 connection. Other DBAPI2 objects are not tested. Please consider using SQLAlchemy.\n",
      "  df = pd.read_sql_query(\"SELECT * FROM INSTRUCTOR\", db)\n"
     ]
    }
   ],
   "source": [
    "df = pd.read_sql_query(\"SELECT * FROM INSTRUCTOR\", db)"
   ]
  },
  {
   "cell_type": "code",
   "execution_count": 86,
   "id": "c983c6cd-706c-4f94-94ba-988304c0e18d",
   "metadata": {},
   "outputs": [
    {
     "data": {
      "text/html": [
       "<div>\n",
       "<style scoped>\n",
       "    .dataframe tbody tr th:only-of-type {\n",
       "        vertical-align: middle;\n",
       "    }\n",
       "\n",
       "    .dataframe tbody tr th {\n",
       "        vertical-align: top;\n",
       "    }\n",
       "\n",
       "    .dataframe thead th {\n",
       "        text-align: right;\n",
       "    }\n",
       "</style>\n",
       "<table border=\"1\" class=\"dataframe\">\n",
       "  <thead>\n",
       "    <tr style=\"text-align: right;\">\n",
       "      <th></th>\n",
       "      <th>ID</th>\n",
       "      <th>FNAME</th>\n",
       "      <th>LNAME</th>\n",
       "      <th>CITY</th>\n",
       "      <th>CCODE</th>\n",
       "    </tr>\n",
       "  </thead>\n",
       "  <tbody>\n",
       "    <tr>\n",
       "      <th>0</th>\n",
       "      <td>2</td>\n",
       "      <td>Dilip</td>\n",
       "      <td>Kumar</td>\n",
       "      <td>Jaipur</td>\n",
       "      <td>DK</td>\n",
       "    </tr>\n",
       "    <tr>\n",
       "      <th>1</th>\n",
       "      <td>3</td>\n",
       "      <td>Raju</td>\n",
       "      <td>Maheshwari</td>\n",
       "      <td>AHMEDABAD</td>\n",
       "      <td>RM</td>\n",
       "    </tr>\n",
       "    <tr>\n",
       "      <th>2</th>\n",
       "      <td>4</td>\n",
       "      <td>Mahesh</td>\n",
       "      <td>Maheshwari</td>\n",
       "      <td>Kota</td>\n",
       "      <td>MM</td>\n",
       "    </tr>\n",
       "  </tbody>\n",
       "</table>\n",
       "</div>"
      ],
      "text/plain": [
       "   ID   FNAME       LNAME       CITY CCODE\n",
       "0   2   Dilip       Kumar     Jaipur    DK\n",
       "1   3    Raju  Maheshwari  AHMEDABAD    RM\n",
       "2   4  Mahesh  Maheshwari       Kota    MM"
      ]
     },
     "execution_count": 86,
     "metadata": {},
     "output_type": "execute_result"
    }
   ],
   "source": [
    "df"
   ]
  },
  {
   "cell_type": "code",
   "execution_count": null,
   "id": "6f438f10-7645-46bf-acf7-2f1a16276ce5",
   "metadata": {},
   "outputs": [],
   "source": [
    "df.LN"
   ]
  }
 ],
 "metadata": {
  "kernelspec": {
   "display_name": "Python 3 (ipykernel)",
   "language": "python",
   "name": "python3"
  },
  "language_info": {
   "codemirror_mode": {
    "name": "ipython",
    "version": 3
   },
   "file_extension": ".py",
   "mimetype": "text/x-python",
   "name": "python",
   "nbconvert_exporter": "python",
   "pygments_lexer": "ipython3",
   "version": "3.11.4"
  }
 },
 "nbformat": 4,
 "nbformat_minor": 5
}
